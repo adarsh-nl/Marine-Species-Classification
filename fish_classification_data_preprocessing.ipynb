{
 "cells": [
  {
   "cell_type": "code",
   "execution_count": 78,
   "metadata": {},
   "outputs": [],
   "source": [
    "from PIL import Image\n",
    "import numpy as np\n",
    "import os\n",
    "import pandas as pd\n",
    "import cv2\n",
    "\n",
    "from keras import layers\n",
    "from keras.layers import Input, Add, Dense, Activation, ZeroPadding2D, BatchNormalization, Flatten, Conv2D, AveragePooling2D, MaxPooling2D, GlobalMaxPooling2D\n",
    "from keras.models import Model, load_model\n",
    "from keras.preprocessing import image\n",
    "from keras.utils import layer_utils\n",
    "from keras.utils.data_utils import get_file\n",
    "from keras.applications.imagenet_utils import preprocess_input\n",
    "import pydot\n",
    "from IPython.display import SVG\n",
    "from keras.utils.vis_utils import model_to_dot\n",
    "from keras.utils import plot_model\n",
    "\n",
    "from keras.initializers import glorot_uniform\n",
    "import scipy.misc\n",
    "from matplotlib.pyplot import imshow\n",
    "\n",
    "from keras.initializers import glorot_uniform\n",
    "from keras.layers import Input, Add, Dense, Activation, ZeroPadding2D, BatchNormalization, Flatten, Conv2D, AveragePooling2D, MaxPooling2D, GlobalMaxPooling2D\n"
   ]
  },
  {
   "cell_type": "code",
   "execution_count": 69,
   "metadata": {},
   "outputs": [],
   "source": [
    "DEBUG = False\n",
    "\n",
    "def debug(str):\n",
    "    if DEBUG:\n",
    "        print(str)"
   ]
  },
  {
   "cell_type": "code",
   "execution_count": 70,
   "metadata": {},
   "outputs": [],
   "source": [
    "\"\"\"\n",
    "Reference:\n",
    "https://stackoverflow.com/questions/25008458/how-to-apply-clahe-on-rgb-color-images\n",
    "\n",
    "CLAHE algorithm cannot be applied directly on RGB images\n",
    "\n",
    "Implementation of CLAHE algorithm on a single image\n",
    "img_path = \"/home/adarsh/Downloads/Machine learning/Marine species classification/Fish-Pak/Catla/Body/Catla-Body (1).JPG\"\n",
    "img = cv2.imread(img_path, cv2.IMREAD_COLOR)\n",
    "img = cv2.resize(img,(256,256))\n",
    "img = cv2.cvtColor(img, cv2.COLOR_RGB2Lab)\n",
    "\n",
    "#configure CLAHE\n",
    "clahe = cv2.createCLAHE(clipLimit=10)\n",
    "\n",
    "#0 to 'L' channel, 1 to 'a' channel, and 2 to 'b' channel\n",
    "img[:,:,0] = clahe.apply(img[:,:,0])\n",
    "\n",
    "img = cv2.cvtColor(img, cv2.COLOR_Lab2RGB)\n",
    "\n",
    "cv2.imshow(\"image\", img)\n",
    "cv2.waitKey(0)\n",
    "cv2.destroyAllWindows()\n",
    "\"\"\"\n",
    "\n",
    "image_array = []\n",
    "store_image = []\n",
    "store_labels = []\n",
    "#train_path='/home/adarsh/Downloads/Machine learning/Marine species classification/Fish-Pak/Catla/Body'\n",
    "#train_images=os.listdir('/home/adarsh/Downloads/Machine learning/Marine species classification/Fish-Pak/Catla/Body')\n",
    "\n",
    "def store_inarray(image_path):\n",
    "    image = cv2.imread(image_path)\n",
    "    image = cv2.resize(image, (512, 512))\n",
    "    image = cv2.cvtColor(image, cv2.COLOR_RGB2Lab)\n",
    "    clahe = cv2.createCLAHE(clipLimit=10)\n",
    "    image[:,:,0] = clahe.apply(image[:,:,0])\n",
    "    image = cv2.cvtColor(image, cv2.COLOR_Lab2RGB)\n",
    "    image=np.array(image)\n",
    "    store_image.append(image)"
   ]
  },
  {
   "cell_type": "code",
   "execution_count": 71,
   "metadata": {},
   "outputs": [],
   "source": [
    "directories_path = \"/home/adarsh/Downloads/Machine learning/Marine species classification/Fish-Pak\"\n",
    "directories = os.listdir(\"/home/adarsh/Downloads/Machine learning/Marine species classification/Fish-Pak\")\n",
    "directories = np.sort(directories)\n",
    "__train_path_array__ = []\n",
    "for directory in directories:\n",
    "    __train_path_array__.append(directories_path +'/' + directory + '/Body')\n",
    "    __train_path_array__.append(directories_path +'/' + directory + '/Head')\n",
    "    __train_path_array__.append(directories_path +'/' + directory + '/Scales')\n",
    "\n",
    "for train_path in __train_path_array__:\n",
    "    if ((train_path == \"/home/adarsh/Downloads/Machine learning/Marine species classification/Fish-Pak/Catla/Body\") or(train_path == \"/home/adarsh/Downloads/Machine learning/Marine species classification/Fish-Pak/Catla/Head\") or (train_path == \"/home/adarsh/Downloads/Machine learning/Marine species classification/Fish-Pak/Catla/Scales\")):\n",
    "        images=os.listdir(train_path)\n",
    "        for image in images:\n",
    "            image_array.append((image, str(train_path + 'image')))\n",
    "            store_labels.append(0)\n",
    "            image_path=train_path + '/' + image\n",
    "            debug(image_path)\n",
    "            store_inarray(image_path)\n",
    "    elif ((train_path == \"/home/adarsh/Downloads/Machine learning/Marine species classification/Fish-Pak/Cyprinus carpio/Body\") or (train_path == \"/home/adarsh/Downloads/Machine learning/Marine species classification/Fish-Pak/Cyprinus carpio/Head\") or (train_path == \"/home/adarsh/Downloads/Machine learning/Marine species classification/Fish-Pak/Cyprinus carpio/Scales\")):\n",
    "        images=os.listdir(train_path)\n",
    "        for image in images:\n",
    "            image_array.append((image, str(train_path + 'image')))\n",
    "            store_labels.append(1)\n",
    "            image_path=train_path + '/' + image\n",
    "            debug(image_path)\n",
    "            store_inarray(image_path)\n",
    "    elif (train_path == \"/home/adarsh/Downloads/Machine learning/Marine species classification/Fish-Pak/Grass Carp/Body\" or \"/home/adarsh/Downloads/Machine learning/Marine species classification/Fish-Pak/Grass Carp/Head\" or \"/home/adarsh/Downloads/Machine learning/Marine species classification/Fish-Pak/Grass Carp/Scales\"):\n",
    "        images=os.listdir(train_path)\n",
    "        for image in images:\n",
    "            image_array.append((image, str(train_path + 'image')))\n",
    "            store_labels.append(2)\n",
    "            image_path=train_path + '/' + image\n",
    "            debug(image_path)\n",
    "            store_inarray(image_path)\n",
    "    elif ((train_path == \"/home/adarsh/Downloads/Machine learning/Marine species classification/Fish-Pak/Mori/Body\") or (train_path == \"/home/adarsh/Downloads/Machine learning/Marine species classification/Fish-Pak/Mori/Head\") or (train_path == \"/home/adarsh/Downloads/Machine learning/Marine species classification/Fish-Pak/Mori/Scales\")):\n",
    "        images=os.listdir(train_path)\n",
    "        for image in images:\n",
    "            image_array.append((image, str(train_path + 'image')))\n",
    "            store_labels.append(3)\n",
    "            image_path=train_path + '/' + image\n",
    "            debug(image_path)\n",
    "            store_inarray(image_path)\n",
    "    elif ((train_path == \"/home/adarsh/Downloads/Machine learning/Marine species classification/Fish-Pak/Silver/Body\") or (train_path == \"/home/adarsh/Downloads/Machine learning/Marine species classification/Fish-Pak/Silver/Head\") or (train_path == \"/home/adarsh/Downloads/Machine learning/Marine species classification/Fish-Pak/Silver/Scales\"):\n",
    "        images=os.listdir(train_path)\n",
    "        for image in images:\n",
    "            image_array.append((image, str(train_path + 'image')))\n",
    "            store_labels.append(4)\n",
    "            image_path=train_path + '/' + image\n",
    "            debug(image_path)\n",
    "            store_inarray(image_path)"
   ]
  },
  {
   "cell_type": "code",
   "execution_count": 74,
   "metadata": {},
   "outputs": [
    {
     "name": "stdout",
     "output_type": "stream",
     "text": [
      "             Fish type                                              image\n",
      "0  Catla-Body (15).JPG  /home/adarsh/Downloads/Machine learning/Marine...\n",
      "1  Catla-Body (20).JPG  /home/adarsh/Downloads/Machine learning/Marine...\n",
      "2  Catla-Body (10).JPG  /home/adarsh/Downloads/Machine learning/Marine...\n",
      "3   Catla-Body (6).JPG  /home/adarsh/Downloads/Machine learning/Marine...\n",
      "4   Catla-Body (9).JPG  /home/adarsh/Downloads/Machine learning/Marine...\n",
      "                 Fish type                                              image\n",
      "910   Silver-Scale (7).JPG  /home/adarsh/Downloads/Machine learning/Marine...\n",
      "911  Silver-Scale (50).JPG  /home/adarsh/Downloads/Machine learning/Marine...\n",
      "912  Silver-Scale (12).JPG  /home/adarsh/Downloads/Machine learning/Marine...\n",
      "913   Silver-Scale (4).JPG  /home/adarsh/Downloads/Machine learning/Marine...\n",
      "914  Silver-Scale (35).JPG  /home/adarsh/Downloads/Machine learning/Marine...\n"
     ]
    }
   ],
   "source": [
    "# Build a dataframe        \n",
    "fishes_df = pd.DataFrame(data=image_array, columns=['Fish type', 'image'])\n",
    "print(fishes_df.head())\n",
    "print(fishes_df.tail())"
   ]
  },
  {
   "cell_type": "code",
   "execution_count": 75,
   "metadata": {},
   "outputs": [],
   "source": [
    "np.save('/home/adarsh/Downloads/Machine learning/Marine species classification/data.npy',store_image)\n",
    "np.save('/home/adarsh/Downloads/Machine learning/Marine species classification/labels.npy',store_labels)"
   ]
  },
  {
   "cell_type": "code",
   "execution_count": 76,
   "metadata": {},
   "outputs": [],
   "source": [
    "training_data = np.load(\"/home/adarsh/Downloads/Machine learning/Marine species classification/data.npy\")\n",
    "training_labels = np.load(\"/home/adarsh/Downloads/Machine learning/Marine species classification/labels.npy\")\n"
   ]
  },
  {
   "cell_type": "code",
   "execution_count": 77,
   "metadata": {},
   "outputs": [
    {
     "name": "stdout",
     "output_type": "stream",
     "text": [
      "(869, 512, 512, 3)\n",
      "(869,)\n",
      "(46, 512, 512, 3)\n",
      "(46,)\n"
     ]
    }
   ],
   "source": [
    "from sklearn.utils import shuffle\n",
    "from sklearn.model_selection import train_test_split\n",
    "\n",
    "\n",
    "training_data, training_labels = shuffle(training_data, training_labels, random_state=1)\n",
    "\n",
    "train_x, test_x, train_y, test_y = train_test_split(training_data, training_labels, test_size=0.05, random_state=415)\n",
    "\n",
    "#inpect the shape of the training and testing.\n",
    "print(train_x.shape)\n",
    "print(train_y.shape)\n",
    "print(test_x.shape)\n",
    "print(test_y.shape)"
   ]
  },
  {
   "cell_type": "code",
   "execution_count": null,
   "metadata": {},
   "outputs": [],
   "source": []
  }
 ],
 "metadata": {
  "kernelspec": {
   "display_name": "Python 3.10.6 ('aikr')",
   "language": "python",
   "name": "python3"
  },
  "language_info": {
   "codemirror_mode": {
    "name": "ipython",
    "version": 3
   },
   "file_extension": ".py",
   "mimetype": "text/x-python",
   "name": "python",
   "nbconvert_exporter": "python",
   "pygments_lexer": "ipython3",
   "version": "3.10.6"
  },
  "orig_nbformat": 4,
  "vscode": {
   "interpreter": {
    "hash": "b5cbcb2e7a436146f2ebede0c6fc49912a11acd898b062d94ddd451e1d545775"
   }
  }
 },
 "nbformat": 4,
 "nbformat_minor": 2
}
